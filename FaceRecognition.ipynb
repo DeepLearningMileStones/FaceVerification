{
 "cells": [
  {
   "cell_type": "code",
   "execution_count": 1,
   "id": "3cdadc26-e78b-4cf4-8c9e-149ddfd910c7",
   "metadata": {},
   "outputs": [],
   "source": [
    "!tar -xf lfw.tgz"
   ]
  },
  {
   "cell_type": "code",
   "execution_count": 29,
   "id": "d944a992-22a4-401c-90c9-9760d9c389ec",
   "metadata": {},
   "outputs": [],
   "source": [
    "import os\n",
    "import cv2\n",
    "import uuid\n",
    "import matplotlib.pyplot as plt\n",
    "import numpy as np"
   ]
  },
  {
   "cell_type": "code",
   "execution_count": null,
   "id": "cbc417e6-3aa3-4f05-88aa-1ecb45a42d23",
   "metadata": {},
   "outputs": [],
   "source": [
    "!pip uninstall opencv-python"
   ]
  },
  {
   "cell_type": "code",
   "execution_count": 2,
   "id": "ee529433-aa04-4469-956f-52fa913dee94",
   "metadata": {},
   "outputs": [],
   "source": [
    "# Move LFW images to directory data/negatives\n",
    "\n",
    "for dir in os.listdir('lfw'):\n",
    "    for file in os.listdir(os.path.join('lfw', dir)):\n",
    "        EX_PATH = os.path.join('lfw', dir, file)\n",
    "        NEW_PATH = os.path.join('data', 'negatives', file)\n",
    "        os.replace(EX_PATH, NEW_PATH)\n",
    "        "
   ]
  },
  {
   "cell_type": "code",
   "execution_count": 3,
   "id": "37b2c338-aaf0-4dea-b7f2-07af42adb4ea",
   "metadata": {},
   "outputs": [
    {
     "ename": "error",
     "evalue": "OpenCV(4.8.1) D:\\a\\opencv-python\\opencv-python\\opencv\\modules\\highgui\\src\\window.cpp:1266: error: (-2:Unspecified error) The function is not implemented. Rebuild the library with Windows, GTK+ 2.x or Cocoa support. If you are on Ubuntu or Debian, install libgtk2.0-dev and pkg-config, then re-run cmake or configure script in function 'cvDestroyAllWindows'\n",
     "output_type": "error",
     "traceback": [
      "\u001b[1;31m---------------------------------------------------------------------------\u001b[0m",
      "\u001b[1;31merror\u001b[0m                                     Traceback (most recent call last)",
      "Cell \u001b[1;32mIn[3], line 31\u001b[0m\n\u001b[0;32m     29\u001b[0m cap\u001b[38;5;241m.\u001b[39mrelease()\n\u001b[0;32m     30\u001b[0m \u001b[38;5;66;03m#Close the image frame\u001b[39;00m\n\u001b[1;32m---> 31\u001b[0m \u001b[43mcv2\u001b[49m\u001b[38;5;241;43m.\u001b[39;49m\u001b[43mdestroyAllWindows\u001b[49m\u001b[43m(\u001b[49m\u001b[43m)\u001b[49m\n",
      "\u001b[1;31merror\u001b[0m: OpenCV(4.8.1) D:\\a\\opencv-python\\opencv-python\\opencv\\modules\\highgui\\src\\window.cpp:1266: error: (-2:Unspecified error) The function is not implemented. Rebuild the library with Windows, GTK+ 2.x or Cocoa support. If you are on Ubuntu or Debian, install libgtk2.0-dev and pkg-config, then re-run cmake or configure script in function 'cvDestroyAllWindows'\n"
     ]
    }
   ],
   "source": [
    "# Establish a connection to webcam\n",
    "cap = cv2.VideoCapture(0)\n",
    "\n",
    "while cap.isOpened():\n",
    "    ret, frame = cap.read()\n",
    "\n",
    "    # Cut down frame to 250x250px\n",
    "    frame = frame[120:250+120, 200:250+200, :]\n",
    "\n",
    "    #Collecting anchor images\n",
    "    if cv2.waitKey(1) & 0XFF == ord('a'):\n",
    "        imgname = os.path.join('data', 'anchors', '{}.jpg'.format(uuid.uuid1()))\n",
    "        cv2.imwrite(imgname, frame)\n",
    "        \n",
    "    #Collecting positives\n",
    "    if cv2.waitKey(1) & 0XFF == ord('p'):\n",
    "        imgname = os.path.join('data', 'positives', '{}.jpg'.format(uuid.uuid1()))\n",
    "        cv2.imwrite(imgname, frame)\n",
    "        pass\n",
    "\n",
    "    #show image back to screnn\n",
    "    cv2.imshow('Image Collection', frame)\n",
    "\n",
    "    #Breaking Gracefully\n",
    "    if cv2.waitKey(1) & 0XFF == ord('q'):\n",
    "        break\n",
    "\n",
    "#Release the webcam\n",
    "cap.release()\n",
    "#Close the image frame\n",
    "cv2.destroyAllWindows()\n",
    "    "
   ]
  },
  {
   "cell_type": "code",
   "execution_count": 9,
   "id": "84421ce6-0dc5-48cb-967d-df43e072f216",
   "metadata": {},
   "outputs": [],
   "source": [
    "import tensorflow as tf\n",
    "\n",
    "anchors = tf.data.Dataset.list_files(os.path.join('data', 'anchors', '*.jpg')).take(300)\n",
    "positives = tf.data.Dataset.list_files(os.path.join('data', 'positives', '*.jpg')).take(300)\n",
    "negatives = tf.data.Dataset.list_files(os.path.join('data', 'negatives', '*.jpg')).take(300)\n"
   ]
  },
  {
   "cell_type": "code",
   "execution_count": 10,
   "id": "25b0e14b-6514-4900-a9f2-ba0dfc584f1a",
   "metadata": {},
   "outputs": [
    {
     "data": {
      "text/plain": [
       "b'data\\\\anchors\\\\6efd114c-8927-11ee-9074-a86daac9fc83.jpg'"
      ]
     },
     "execution_count": 10,
     "metadata": {},
     "output_type": "execute_result"
    }
   ],
   "source": [
    "anchors.as_numpy_iterator().next()"
   ]
  },
  {
   "cell_type": "code",
   "execution_count": 11,
   "id": "b75ed370-1106-47a5-bf65-00d11bd74f2a",
   "metadata": {},
   "outputs": [],
   "source": [
    "def preprocess(file_path):\n",
    "    byte_img = tf.io.read_file(file_path)\n",
    "    image = tf.io.decode_jpeg(byte_img)\n",
    "    image = tf.image.resize(image, (100, 100))\n",
    "    image = image/255\n",
    "    return image"
   ]
  },
  {
   "cell_type": "code",
   "execution_count": 12,
   "id": "0e916a3d-2fb8-46f0-9271-3882c1972f32",
   "metadata": {},
   "outputs": [],
   "source": [
    "##Create Labeled Datasets\n",
    "\n",
    "# (anchor, positve, 1)\n",
    "# (anchor, negative, 0)\n",
    "\n",
    "positives = tf.data.Dataset.zip((anchors, positives, tf.data.Dataset.from_tensor_slices(tf.ones(len(anchors)))))\n",
    "negatives = tf.data.Dataset.zip((anchors, negatives, tf.data.Dataset.from_tensor_slices(tf.zeros(len(anchors)))))\n",
    "data = positives.concatenate(negatives)"
   ]
  },
  {
   "cell_type": "code",
   "execution_count": 13,
   "id": "fa675623-b165-4787-9e9c-1493ac76789f",
   "metadata": {},
   "outputs": [],
   "source": [
    "example = data.as_numpy_iterator().next()"
   ]
  },
  {
   "cell_type": "code",
   "execution_count": 14,
   "id": "5c2affc7-c8a9-4c3f-8a40-49264fcdf8ee",
   "metadata": {},
   "outputs": [
    {
     "data": {
      "text/plain": [
       "1.0"
      ]
     },
     "execution_count": 14,
     "metadata": {},
     "output_type": "execute_result"
    }
   ],
   "source": [
    "example[2]"
   ]
  },
  {
   "cell_type": "code",
   "execution_count": 15,
   "id": "76279459-34d6-4605-ba06-2383e2254952",
   "metadata": {},
   "outputs": [],
   "source": [
    "def preprocess_twin(input_img, validation_img, label):\n",
    "    return (preprocess(input_img), preprocess(validation_img), label)"
   ]
  },
  {
   "cell_type": "code",
   "execution_count": 16,
   "id": "e8198fb0-3ded-4b75-aabd-f8cfb95cae5b",
   "metadata": {},
   "outputs": [],
   "source": [
    "# Build data loader pipeline\n",
    "\n",
    "data = data.map(preprocess_twin)\n",
    "data = data.cache()\n",
    "data = data.shuffle(buffer_size = 1024)"
   ]
  },
  {
   "cell_type": "code",
   "execution_count": 17,
   "id": "a9146648-4a38-4bf3-86d0-59445a6b126b",
   "metadata": {},
   "outputs": [
    {
     "data": {
      "text/plain": [
       "<ShuffleDataset element_spec=(TensorSpec(shape=(100, 100, None), dtype=tf.float32, name=None), TensorSpec(shape=(100, 100, None), dtype=tf.float32, name=None), TensorSpec(shape=(), dtype=tf.float32, name=None))>"
      ]
     },
     "execution_count": 17,
     "metadata": {},
     "output_type": "execute_result"
    }
   ],
   "source": [
    "data"
   ]
  },
  {
   "cell_type": "code",
   "execution_count": 18,
   "id": "ed4f03a2-9ca9-49da-99de-bfc44c441695",
   "metadata": {},
   "outputs": [],
   "source": [
    "train_data = data.take(round(len(data)*0.7))\n",
    "train_data = train_data.batch(16)\n",
    "train_data = train_data.prefetch(8)"
   ]
  },
  {
   "cell_type": "code",
   "execution_count": 19,
   "id": "a8b3cdb4-80b7-454d-8f98-3781d24025d9",
   "metadata": {},
   "outputs": [],
   "source": [
    "#Testing Partition\n",
    "\n",
    "test_data = data.skip(round(len(data)*0.7))\n",
    "test_data = data.take(round(len(data)*0.3))\n",
    "test_data = test_data.batch(16)"
   ]
  },
  {
   "cell_type": "code",
   "execution_count": 2,
   "id": "2d02212e-faf1-4925-b94b-434f63fd98a1",
   "metadata": {},
   "outputs": [],
   "source": [
    "from tensorflow.keras.models import Model\n",
    "from tensorflow.keras.layers import Layer, Conv2D, MaxPooling2D, Input, Flatten, Dense"
   ]
  },
  {
   "cell_type": "code",
   "execution_count": 18,
   "id": "2dad5eac-3146-46b0-84a9-c53971f20ed8",
   "metadata": {},
   "outputs": [],
   "source": [
    "#Build Embedding layer\n",
    "\n",
    "def make_embedding():\n",
    "    inp = Input(shape = (100, 100, 3), name = 'Input Image')\n",
    "\n",
    "    #First Block\n",
    "    c1 = Conv2D(64, (10, 10), activation = 'relu')(inp)\n",
    "    m1 = MaxPooling2D(64, (2,2), padding = 'same')(c1)\n",
    "\n",
    "    #Second Block\n",
    "    c2 = Conv2D(128, (7, 7), activation = 'relu')(m1)\n",
    "    m2 = MaxPooling2D(64, (2,2), padding = 'same')(c2)\n",
    "\n",
    "    #Third Block\n",
    "    c3 = Conv2D(128, (4, 4), activation = 'relu')(m2)\n",
    "    m3 = MaxPooling2D(64, (2,2), padding = 'same')(c3)\n",
    "\n",
    "    #Final Enbedding Block\n",
    "    c4 = Conv2D(256, (4,4), activation = 'relu')(m3)\n",
    "    f1 = Flatten()(c4)\n",
    "    d1 = Dense(4096, activation = 'sigmoid')(f1)\n",
    "    \n",
    "    return Model(inputs = [inp], outputs = [d1], name = 'Embedding' )"
   ]
  },
  {
   "cell_type": "code",
   "execution_count": 19,
   "id": "de143edb-e6f2-4a71-9cbd-79b5cd4a3aa0",
   "metadata": {},
   "outputs": [],
   "source": [
    "embedding = make_embedding()"
   ]
  },
  {
   "cell_type": "code",
   "execution_count": 20,
   "id": "58a697eb-6400-4e0c-b650-4ea171d163e1",
   "metadata": {
    "scrolled": true
   },
   "outputs": [
    {
     "name": "stdout",
     "output_type": "stream",
     "text": [
      "Model: \"Embedding\"\n",
      "_________________________________________________________________\n",
      " Layer (type)                Output Shape              Param #   \n",
      "=================================================================\n",
      " Input Image (InputLayer)    [(None, 100, 100, 3)]     0         \n",
      "                                                                 \n",
      " conv2d_4 (Conv2D)           (None, 91, 91, 64)        19264     \n",
      "                                                                 \n",
      " max_pooling2d_3 (MaxPooling  (None, 46, 46, 64)       0         \n",
      " 2D)                                                             \n",
      "                                                                 \n",
      " conv2d_5 (Conv2D)           (None, 40, 40, 128)       401536    \n",
      "                                                                 \n",
      " max_pooling2d_4 (MaxPooling  (None, 20, 20, 128)      0         \n",
      " 2D)                                                             \n",
      "                                                                 \n",
      " conv2d_6 (Conv2D)           (None, 17, 17, 128)       262272    \n",
      "                                                                 \n",
      " max_pooling2d_5 (MaxPooling  (None, 9, 9, 128)        0         \n",
      " 2D)                                                             \n",
      "                                                                 \n",
      " conv2d_7 (Conv2D)           (None, 6, 6, 256)         524544    \n",
      "                                                                 \n",
      " flatten_1 (Flatten)         (None, 9216)              0         \n",
      "                                                                 \n",
      " dense_1 (Dense)             (None, 4096)              37752832  \n",
      "                                                                 \n",
      "=================================================================\n",
      "Total params: 38,960,448\n",
      "Trainable params: 38,960,448\n",
      "Non-trainable params: 0\n",
      "_________________________________________________________________\n"
     ]
    }
   ],
   "source": [
    "embedding.summary()"
   ]
  },
  {
   "cell_type": "code",
   "execution_count": 3,
   "id": "fc3ef774-1435-475d-9688-4a984b89e3d3",
   "metadata": {},
   "outputs": [],
   "source": [
    "class L1Dist(Layer):\n",
    "    def __init__(self, **kwargs):\n",
    "        super().__init__()\n",
    "\n",
    "    # Magic happens here\n",
    "    def call(self, input_embedding, validation_embedding):\n",
    "        return (input_embedding-validation_embedding)"
   ]
  },
  {
   "cell_type": "code",
   "execution_count": 23,
   "id": "8b1ed040-3a0a-4e78-acfb-297d07dd84fd",
   "metadata": {},
   "outputs": [],
   "source": [
    "def make_siamese_model():\n",
    "\n",
    "    # Handle Inputs\n",
    "    # Anchor image input in the network\n",
    "    input_image = Input(name = 'input_img', shape = (100, 100, 3))\n",
    "\n",
    "    # Validation IMage in the network\n",
    "    validation_image = Input(name = 'validation_img', shape = (100, 100, 3))\n",
    "\n",
    "    # Combine L1Dist Component\n",
    "    siamese_layer = L1Dist()\n",
    "    siamese_layer._name = 'distance'\n",
    "    distances = siamese_layer(embedding(input_image), embedding(validation_image))\n",
    "\n",
    "    # Classification layer\n",
    "    classifier = Dense(1, activation = 'sigmoid')(distances)\n",
    "\n",
    "    return Model(inputs = [input_image, validation_image], outputs = classifier, name = 'siameseNetwork')"
   ]
  },
  {
   "cell_type": "code",
   "execution_count": 24,
   "id": "a4d67105-a4e7-4313-97a3-14ab6630bb38",
   "metadata": {},
   "outputs": [],
   "source": [
    "siamese_model = make_siamese_model()"
   ]
  },
  {
   "cell_type": "code",
   "execution_count": 25,
   "id": "df53f7ee-5c70-422f-a34d-75a1136b6202",
   "metadata": {
    "scrolled": true
   },
   "outputs": [
    {
     "name": "stdout",
     "output_type": "stream",
     "text": [
      "Model: \"siameseNetwork\"\n",
      "__________________________________________________________________________________________________\n",
      " Layer (type)                   Output Shape         Param #     Connected to                     \n",
      "==================================================================================================\n",
      " input_img (InputLayer)         [(None, 100, 100, 3  0           []                               \n",
      "                                )]                                                                \n",
      "                                                                                                  \n",
      " validation_img (InputLayer)    [(None, 100, 100, 3  0           []                               \n",
      "                                )]                                                                \n",
      "                                                                                                  \n",
      " Embedding (Functional)         (None, 4096)         38960448    ['input_img[0][0]',              \n",
      "                                                                  'validation_img[0][0]']         \n",
      "                                                                                                  \n",
      " distance (L1Dist)              (None, 4096)         0           ['Embedding[0][0]',              \n",
      "                                                                  'Embedding[1][0]']              \n",
      "                                                                                                  \n",
      " dense_2 (Dense)                (None, 1)            4097        ['distance[0][0]']               \n",
      "                                                                                                  \n",
      "==================================================================================================\n",
      "Total params: 38,964,545\n",
      "Trainable params: 38,964,545\n",
      "Non-trainable params: 0\n",
      "__________________________________________________________________________________________________\n"
     ]
    }
   ],
   "source": [
    "siamese_model.summary()"
   ]
  },
  {
   "cell_type": "code",
   "execution_count": 26,
   "id": "d0472992-8607-45e2-b2ff-8a9afa4d7f8c",
   "metadata": {},
   "outputs": [],
   "source": [
    "binary_cross_loss = tf.losses.BinaryCrossentropy()"
   ]
  },
  {
   "cell_type": "code",
   "execution_count": 27,
   "id": "8bd840e3-6c7f-4970-848f-72dbe4037232",
   "metadata": {},
   "outputs": [
    {
     "data": {
      "text/plain": [
       "<keras.optimizers.optimizer_v2.adam.Adam at 0x2102ed92e50>"
      ]
     },
     "execution_count": 27,
     "metadata": {},
     "output_type": "execute_result"
    }
   ],
   "source": [
    "opt = tf.keras.optimizers.Adam(learning_rate=0.0001)\n",
    "opt"
   ]
  },
  {
   "cell_type": "code",
   "execution_count": 26,
   "id": "c1d015ce-9b5f-4cd5-b49b-225d03a931e8",
   "metadata": {},
   "outputs": [],
   "source": [
    "checkpoint_dir = './training_checkpoints'\n",
    "checkpoint_prefix = os.path.join(checkpoint_dir, 'ckpt')\n",
    "checkpoint = tf.train.Checkpoint(opt = opt, siamese_model = siamese_model)"
   ]
  },
  {
   "cell_type": "code",
   "execution_count": 27,
   "id": "e951e923-91c9-492a-a696-9fee19a20545",
   "metadata": {},
   "outputs": [],
   "source": [
    "@tf.function\n",
    "def train_step(batch):\n",
    "\n",
    "    with tf.GradientTape() as tape:\n",
    "        # Get anchor & pos/neg Image\n",
    "        X = batch[:2]\n",
    "        # Get label\n",
    "        y = batch[2]\n",
    "    \n",
    "        yhat = siamese_model(X, training = True)\n",
    "        # Calculate loss\n",
    "        loss = binary_cross_loss(y, yhat)\n",
    "\n",
    "    # Calculate Gradient\n",
    "    grad = tape.gradient(loss, siamese_model.trainable_variables)\n",
    "\n",
    "    # Calculate updated weights & apply to siamese model\n",
    "    opt.apply_gradients(zip(grad, siamese_model.trainable_variables))\n",
    "    return loss\n",
    "    "
   ]
  },
  {
   "cell_type": "code",
   "execution_count": 28,
   "id": "2448e182-9ff2-4144-8b0a-7eebd9e85c50",
   "metadata": {},
   "outputs": [],
   "source": [
    "def train(data, epochs):\n",
    "    # Loop through epochs\n",
    "    for epoch in range(epochs+1):\n",
    "        print('\\n Epoch {}/{}'.format(epoch, epochs))\n",
    "        progbar = tf.keras.utils.Progbar(len(train_data))\n",
    "        \n",
    "        # Loop through each batch\n",
    "        for idx, batch in enumerate(train_data):\n",
    "       # Running train step here\n",
    "            train_step(batch)\n",
    "            progbar.update(idx+1)\n",
    "    \n",
    "        # Save Checkpoint\n",
    "        if epoch % 10 == 0:\n",
    "            checkpoint.save(file_prefix = checkpoint_prefix)\n",
    "    "
   ]
  },
  {
   "cell_type": "code",
   "execution_count": 29,
   "id": "5fdb5a8b-f9cc-4f5e-bde2-d851455994b3",
   "metadata": {
    "scrolled": true
   },
   "outputs": [
    {
     "name": "stdout",
     "output_type": "stream",
     "text": [
      "\n",
      " Epoch 0/50\n",
      "27/27 [==============================] - 43s 1s/step\n",
      "\n",
      " Epoch 1/50\n",
      "27/27 [==============================] - 32s 1s/step\n",
      "\n",
      " Epoch 2/50\n",
      "27/27 [==============================] - 32s 1s/step\n",
      "\n",
      " Epoch 3/50\n",
      "27/27 [==============================] - 32s 1s/step\n",
      "\n",
      " Epoch 4/50\n",
      "27/27 [==============================] - 32s 1s/step\n",
      "\n",
      " Epoch 5/50\n",
      "27/27 [==============================] - 32s 1s/step\n",
      "\n",
      " Epoch 6/50\n",
      "27/27 [==============================] - 32s 1s/step\n",
      "\n",
      " Epoch 7/50\n",
      "27/27 [==============================] - 32s 1s/step\n",
      "\n",
      " Epoch 8/50\n",
      "27/27 [==============================] - 32s 1s/step\n",
      "\n",
      " Epoch 9/50\n",
      "27/27 [==============================] - 32s 1s/step\n",
      "\n",
      " Epoch 10/50\n",
      "27/27 [==============================] - 32s 1s/step\n",
      "\n",
      " Epoch 11/50\n",
      "27/27 [==============================] - 32s 1s/step\n",
      "\n",
      " Epoch 12/50\n",
      "27/27 [==============================] - 32s 1s/step\n",
      "\n",
      " Epoch 13/50\n",
      "27/27 [==============================] - 32s 1s/step\n",
      "\n",
      " Epoch 14/50\n",
      "27/27 [==============================] - 32s 1s/step\n",
      "\n",
      " Epoch 15/50\n",
      "27/27 [==============================] - 32s 1s/step\n",
      "\n",
      " Epoch 16/50\n",
      "27/27 [==============================] - 32s 1s/step\n",
      "\n",
      " Epoch 17/50\n",
      "27/27 [==============================] - 32s 1s/step\n",
      "\n",
      " Epoch 18/50\n",
      "27/27 [==============================] - 32s 1s/step\n",
      "\n",
      " Epoch 19/50\n",
      "27/27 [==============================] - 32s 1s/step\n",
      "\n",
      " Epoch 20/50\n",
      "27/27 [==============================] - 32s 1s/step\n",
      "\n",
      " Epoch 21/50\n",
      "27/27 [==============================] - 31s 1s/step\n",
      "\n",
      " Epoch 22/50\n",
      "27/27 [==============================] - 32s 1s/step\n",
      "\n",
      " Epoch 23/50\n",
      "27/27 [==============================] - 32s 1s/step\n",
      "\n",
      " Epoch 24/50\n",
      "27/27 [==============================] - 32s 1s/step\n",
      "\n",
      " Epoch 25/50\n",
      "27/27 [==============================] - 32s 1s/step\n",
      "\n",
      " Epoch 26/50\n",
      "27/27 [==============================] - 32s 1s/step\n",
      "\n",
      " Epoch 27/50\n",
      "27/27 [==============================] - 32s 1s/step\n",
      "\n",
      " Epoch 28/50\n",
      "27/27 [==============================] - 32s 1s/step\n",
      "\n",
      " Epoch 29/50\n",
      "27/27 [==============================] - 32s 1s/step\n",
      "\n",
      " Epoch 30/50\n",
      "27/27 [==============================] - 32s 1s/step\n",
      "\n",
      " Epoch 31/50\n",
      "27/27 [==============================] - 32s 1s/step\n",
      "\n",
      " Epoch 32/50\n",
      "27/27 [==============================] - 32s 1s/step\n",
      "\n",
      " Epoch 33/50\n",
      "27/27 [==============================] - 32s 1s/step\n",
      "\n",
      " Epoch 34/50\n",
      "27/27 [==============================] - 32s 1s/step\n",
      "\n",
      " Epoch 35/50\n",
      "27/27 [==============================] - 32s 1s/step\n",
      "\n",
      " Epoch 36/50\n",
      "27/27 [==============================] - 32s 1s/step\n",
      "\n",
      " Epoch 37/50\n",
      "27/27 [==============================] - 32s 1s/step\n",
      "\n",
      " Epoch 38/50\n",
      "27/27 [==============================] - 32s 1s/step\n",
      "\n",
      " Epoch 39/50\n",
      "27/27 [==============================] - 32s 1s/step\n",
      "\n",
      " Epoch 40/50\n",
      "27/27 [==============================] - 32s 1s/step\n",
      "\n",
      " Epoch 41/50\n",
      "27/27 [==============================] - 31s 1s/step\n",
      "\n",
      " Epoch 42/50\n",
      "27/27 [==============================] - 32s 1s/step\n",
      "\n",
      " Epoch 43/50\n",
      "27/27 [==============================] - 32s 1s/step\n",
      "\n",
      " Epoch 44/50\n",
      "27/27 [==============================] - 32s 1s/step\n",
      "\n",
      " Epoch 45/50\n",
      "27/27 [==============================] - 32s 1s/step\n",
      "\n",
      " Epoch 46/50\n",
      "27/27 [==============================] - 32s 1s/step\n",
      "\n",
      " Epoch 47/50\n",
      "27/27 [==============================] - 32s 1s/step\n",
      "\n",
      " Epoch 48/50\n",
      "27/27 [==============================] - 32s 1s/step\n",
      "\n",
      " Epoch 49/50\n",
      "27/27 [==============================] - 33s 1s/step\n",
      "\n",
      " Epoch 50/50\n",
      "27/27 [==============================] - 33s 1s/step\n"
     ]
    }
   ],
   "source": [
    "epochs = 50\n",
    "train(train_data, epochs)"
   ]
  },
  {
   "cell_type": "code",
   "execution_count": 20,
   "id": "d290cbc4-bf0d-4aed-9e57-d385c197885f",
   "metadata": {},
   "outputs": [
    {
     "name": "stdout",
     "output_type": "stream",
     "text": [
      "1/1 [==============================] - 8s 8s/step\n"
     ]
    },
    {
     "data": {
      "text/plain": [
       "[1, 1, 0, 0, 0, 0, 0, 1, 0, 1, 1, 1, 1, 0, 1, 1]"
      ]
     },
     "execution_count": 20,
     "metadata": {},
     "output_type": "execute_result"
    }
   ],
   "source": [
    "from tensorflow.keras.metrics import Precision, Recall\n",
    "\n",
    "# Get a batch of test data\n",
    "test_input, test_val, y_true = test_data.as_numpy_iterator().next()\n",
    "yhat = siamese_model.predict([test_input, test_val])\n",
    "\n",
    "# Post processing the results\n",
    "[1 if pred > 0.5 else 0 for pred in yhat]"
   ]
  },
  {
   "cell_type": "code",
   "execution_count": 21,
   "id": "31d5fa5e-e66e-41e4-9326-fd67458e25ba",
   "metadata": {},
   "outputs": [
    {
     "data": {
      "text/plain": [
       "array([1., 1., 0., 0., 0., 0., 0., 1., 0., 1., 1., 1., 1., 0., 1., 1.],\n",
       "      dtype=float32)"
      ]
     },
     "execution_count": 21,
     "metadata": {},
     "output_type": "execute_result"
    }
   ],
   "source": [
    "y_true"
   ]
  },
  {
   "cell_type": "code",
   "execution_count": 44,
   "id": "91581605-565a-4356-943e-41072fdabd94",
   "metadata": {},
   "outputs": [
    {
     "data": {
      "image/png": "[encoded data removed]",
      "text/plain": [
       "<Figure size 1800x800 with 2 Axes>"
      ]
     },
     "metadata": {},
     "output_type": "display_data"
    }
   ],
   "source": [
    "import matplotlib.pyplot as plt\n",
    "import keras\n",
    "\n",
    "# Set plot size\n",
    "plt.figure(figsize=(18, 8))\n",
    "plt.subplot(1,2,1)\n",
    "plt.imshow(test_input[6])\n",
    "\n",
    "plt.subplot(1,2,2)\n",
    "plt.imshow(test_val[6])\n",
    "plt.show()"
   ]
  },
  {
   "cell_type": "code",
   "execution_count": 48,
   "id": "8c73e164-a329-4c37-8f41-580d38697f12",
   "metadata": {},
   "outputs": [
    {
     "data": {
      "text/plain": [
       "1.0"
      ]
     },
     "execution_count": 48,
     "metadata": {},
     "output_type": "execute_result"
    }
   ],
   "source": [
    "y_true[7]"
   ]
  },
  {
   "cell_type": "code",
   "execution_count": 49,
   "id": "e8b20cf3-f942-42ea-bf15-64b7fe68351b",
   "metadata": {},
   "outputs": [
    {
     "data": {
      "text/plain": [
       "array([1.], dtype=float32)"
      ]
     },
     "execution_count": 49,
     "metadata": {},
     "output_type": "execute_result"
    }
   ],
   "source": [
    "yhat[7]"
   ]
  },
  {
   "cell_type": "code",
   "execution_count": 4,
   "id": "29c235c3-ed74-4c7e-ba93-3f65a0951ab2",
   "metadata": {},
   "outputs": [
    {
     "name": "stdout",
     "output_type": "stream",
     "text": [
      "WARNING:tensorflow:No training configuration found in the save file, so the model was *not* compiled. Compile it manually.\n"
     ]
    }
   ],
   "source": [
    "import tensorflow as tf\n",
    "from tensorflow.keras.models import load_model\n",
    "siamese_model = load_model('siamesem_model.h5', \n",
    "                           custom_objects ={'L1Dist': L1Dist, 'BinaryCrossentropy':tf.losses.BinaryCrossentropy} )"
   ]
  },
  {
   "cell_type": "code",
   "execution_count": 5,
   "id": "d62d8044-a9e0-4efe-a2fc-f6bfcd75e50d",
   "metadata": {},
   "outputs": [
    {
     "data": {
      "text/plain": [
       "<keras.engine.functional.Functional at 0x1b0c9a675e0>"
      ]
     },
     "execution_count": 5,
     "metadata": {},
     "output_type": "execute_result"
    }
   ],
   "source": [
    "siamese_model"
   ]
  },
  {
   "cell_type": "code",
   "execution_count": 5,
   "id": "bbb20686-9f5c-4ab7-b21d-6ff057088263",
   "metadata": {},
   "outputs": [
    {
     "data": {
      "text/plain": [
       "\u001b[1;31mSignature:\u001b[0m\n",
       "\u001b[0mtf\u001b[0m\u001b[1;33m.\u001b[0m\u001b[0mkeras\u001b[0m\u001b[1;33m.\u001b[0m\u001b[0mmodels\u001b[0m\u001b[1;33m.\u001b[0m\u001b[0mload_model\u001b[0m\u001b[1;33m(\u001b[0m\u001b[1;33m\n",
       "\u001b[0m    \u001b[0mfilepath\u001b[0m\u001b[1;33m,\u001b[0m\u001b[1;33m\n",
       "\u001b[0m    \u001b[0mcustom_objects\u001b[0m\u001b[1;33m=\u001b[0m\u001b[1;32mNone\u001b[0m\u001b[1;33m,\u001b[0m\u001b[1;33m\n",
       "\u001b[0m    \u001b[0mcompile\u001b[0m\u001b[1;33m=\u001b[0m\u001b[1;32mTrue\u001b[0m\u001b[1;33m,\u001b[0m\u001b[1;33m\n",
       "\u001b[0m    \u001b[0moptions\u001b[0m\u001b[1;33m=\u001b[0m\u001b[1;32mNone\u001b[0m\u001b[1;33m,\u001b[0m\u001b[1;33m\n",
       "\u001b[0m\u001b[1;33m)\u001b[0m\u001b[1;33m\u001b[0m\u001b[1;33m\u001b[0m\u001b[0m\n",
       "\u001b[1;31mSource:\u001b[0m   \n",
       "\u001b[1;33m@\u001b[0m\u001b[0mkeras_export\u001b[0m\u001b[1;33m(\u001b[0m\u001b[1;34m\"keras.models.load_model\"\u001b[0m\u001b[1;33m)\u001b[0m\u001b[1;33m\n",
       "\u001b[0m\u001b[1;33m@\u001b[0m\u001b[0mtraceback_utils\u001b[0m\u001b[1;33m.\u001b[0m\u001b[0mfilter_traceback\u001b[0m\u001b[1;33m\n",
       "\u001b[0m\u001b[1;32mdef\u001b[0m \u001b[0mload_model\u001b[0m\u001b[1;33m(\u001b[0m\u001b[0mfilepath\u001b[0m\u001b[1;33m,\u001b[0m \u001b[0mcustom_objects\u001b[0m\u001b[1;33m=\u001b[0m\u001b[1;32mNone\u001b[0m\u001b[1;33m,\u001b[0m \u001b[0mcompile\u001b[0m\u001b[1;33m=\u001b[0m\u001b[1;32mTrue\u001b[0m\u001b[1;33m,\u001b[0m \u001b[0moptions\u001b[0m\u001b[1;33m=\u001b[0m\u001b[1;32mNone\u001b[0m\u001b[1;33m)\u001b[0m\u001b[1;33m:\u001b[0m\u001b[1;33m\n",
       "\u001b[0m    \u001b[1;34m\"\"\"Loads a model saved via `model.save()`.\n",
       "\n",
       "    Usage:\n",
       "\n",
       "    >>> model = tf.keras.Sequential([\n",
       "    ...     tf.keras.layers.Dense(5, input_shape=(3,)),\n",
       "    ...     tf.keras.layers.Softmax()])\n",
       "    >>> model.save('/tmp/model')\n",
       "    >>> loaded_model = tf.keras.models.load_model('/tmp/model')\n",
       "    >>> x = tf.random.uniform((10, 3))\n",
       "    >>> assert np.allclose(model.predict(x), loaded_model.predict(x))\n",
       "\n",
       "    Note that the model weights may have different scoped names after being\n",
       "    loaded. Scoped names include the model/layer names, such as\n",
       "    `\"dense_1/kernel:0\"`. It is recommended that you use the layer properties to\n",
       "    access specific variables, e.g. `model.get_layer(\"dense_1\").kernel`.\n",
       "\n",
       "    Args:\n",
       "        filepath: One of the following:\n",
       "            - String or `pathlib.Path` object, path to the saved model\n",
       "            - `h5py.File` object from which to load the model\n",
       "        custom_objects: Optional dictionary mapping names\n",
       "            (strings) to custom classes or functions to be\n",
       "            considered during deserialization.\n",
       "        compile: Boolean, whether to compile the model\n",
       "            after loading.\n",
       "        options: Optional `tf.saved_model.LoadOptions` object that specifies\n",
       "          options for loading from SavedModel.\n",
       "\n",
       "    Returns:\n",
       "        A Keras model instance. If the original model was compiled, and saved\n",
       "        with the optimizer, then the returned model will be compiled. Otherwise,\n",
       "        the model will be left uncompiled. In the case that an uncompiled model\n",
       "        is returned, a warning is displayed if the `compile` argument is set to\n",
       "        `True`.\n",
       "\n",
       "    Raises:\n",
       "        ImportError: if loading from an hdf5 file and h5py is not available.\n",
       "        IOError: In case of an invalid savefile.\n",
       "    \"\"\"\u001b[0m\u001b[1;33m\n",
       "\u001b[0m    \u001b[1;32mwith\u001b[0m \u001b[0mgeneric_utils\u001b[0m\u001b[1;33m.\u001b[0m\u001b[0mSharedObjectLoadingScope\u001b[0m\u001b[1;33m(\u001b[0m\u001b[1;33m)\u001b[0m\u001b[1;33m:\u001b[0m\u001b[1;33m\n",
       "\u001b[0m        \u001b[1;32mwith\u001b[0m \u001b[0mgeneric_utils\u001b[0m\u001b[1;33m.\u001b[0m\u001b[0mCustomObjectScope\u001b[0m\u001b[1;33m(\u001b[0m\u001b[0mcustom_objects\u001b[0m \u001b[1;32mor\u001b[0m \u001b[1;33m{\u001b[0m\u001b[1;33m}\u001b[0m\u001b[1;33m)\u001b[0m\u001b[1;33m:\u001b[0m\u001b[1;33m\n",
       "\u001b[0m            \u001b[1;32mwith\u001b[0m \u001b[0mload_context\u001b[0m\u001b[1;33m.\u001b[0m\u001b[0mload_context\u001b[0m\u001b[1;33m(\u001b[0m\u001b[0moptions\u001b[0m\u001b[1;33m)\u001b[0m\u001b[1;33m:\u001b[0m\u001b[1;33m\n",
       "\u001b[0m                \u001b[0mfilepath_str\u001b[0m \u001b[1;33m=\u001b[0m \u001b[0mpath_to_string\u001b[0m\u001b[1;33m(\u001b[0m\u001b[0mfilepath\u001b[0m\u001b[1;33m)\u001b[0m\u001b[1;33m\n",
       "\u001b[0m                \u001b[1;32mif\u001b[0m \u001b[0misinstance\u001b[0m\u001b[1;33m(\u001b[0m\u001b[0mfilepath_str\u001b[0m\u001b[1;33m,\u001b[0m \u001b[0mstr\u001b[0m\u001b[1;33m)\u001b[0m\u001b[1;33m:\u001b[0m\u001b[1;33m\n",
       "\u001b[0m                    \u001b[1;32mif\u001b[0m \u001b[1;32mnot\u001b[0m \u001b[0mtf\u001b[0m\u001b[1;33m.\u001b[0m\u001b[0mio\u001b[0m\u001b[1;33m.\u001b[0m\u001b[0mgfile\u001b[0m\u001b[1;33m.\u001b[0m\u001b[0mexists\u001b[0m\u001b[1;33m(\u001b[0m\u001b[0mfilepath_str\u001b[0m\u001b[1;33m)\u001b[0m\u001b[1;33m:\u001b[0m\u001b[1;33m\n",
       "\u001b[0m                        \u001b[1;32mraise\u001b[0m \u001b[0mIOError\u001b[0m\u001b[1;33m(\u001b[0m\u001b[1;33m\n",
       "\u001b[0m                            \u001b[1;34mf\"No file or directory found at {filepath_str}\"\u001b[0m\u001b[1;33m\n",
       "\u001b[0m                        \u001b[1;33m)\u001b[0m\u001b[1;33m\n",
       "\u001b[0m\u001b[1;33m\n",
       "\u001b[0m                    \u001b[1;32mif\u001b[0m \u001b[0mtf\u001b[0m\u001b[1;33m.\u001b[0m\u001b[0mio\u001b[0m\u001b[1;33m.\u001b[0m\u001b[0mgfile\u001b[0m\u001b[1;33m.\u001b[0m\u001b[0misdir\u001b[0m\u001b[1;33m(\u001b[0m\u001b[0mfilepath_str\u001b[0m\u001b[1;33m)\u001b[0m\u001b[1;33m:\u001b[0m\u001b[1;33m\n",
       "\u001b[0m                        \u001b[1;32mreturn\u001b[0m \u001b[0msaved_model_load\u001b[0m\u001b[1;33m.\u001b[0m\u001b[0mload\u001b[0m\u001b[1;33m(\u001b[0m\u001b[1;33m\n",
       "\u001b[0m                            \u001b[0mfilepath_str\u001b[0m\u001b[1;33m,\u001b[0m \u001b[0mcompile\u001b[0m\u001b[1;33m,\u001b[0m \u001b[0moptions\u001b[0m\u001b[1;33m\n",
       "\u001b[0m                        \u001b[1;33m)\u001b[0m\u001b[1;33m\n",
       "\u001b[0m                    \u001b[1;32melse\u001b[0m\u001b[1;33m:\u001b[0m\u001b[1;33m\n",
       "\u001b[0m                        \u001b[1;32mif\u001b[0m \u001b[0mh5py\u001b[0m \u001b[1;32mis\u001b[0m \u001b[1;32mNone\u001b[0m\u001b[1;33m:\u001b[0m\u001b[1;33m\n",
       "\u001b[0m                            \u001b[1;32mraise\u001b[0m \u001b[0mImportError\u001b[0m\u001b[1;33m(\u001b[0m\u001b[1;33m\n",
       "\u001b[0m                                \u001b[1;34m\"Filepath looks like a hdf5 file but h5py is \"\u001b[0m\u001b[1;33m\n",
       "\u001b[0m                                \u001b[1;34m\"not available.\"\u001b[0m\u001b[1;33m\n",
       "\u001b[0m                                \u001b[1;34mf\" filepath={filepath_str}\"\u001b[0m\u001b[1;33m\n",
       "\u001b[0m                            \u001b[1;33m)\u001b[0m\u001b[1;33m\n",
       "\u001b[0m                        \u001b[1;32mreturn\u001b[0m \u001b[0mhdf5_format\u001b[0m\u001b[1;33m.\u001b[0m\u001b[0mload_model_from_hdf5\u001b[0m\u001b[1;33m(\u001b[0m\u001b[1;33m\n",
       "\u001b[0m                            \u001b[0mtf\u001b[0m\u001b[1;33m.\u001b[0m\u001b[0mio\u001b[0m\u001b[1;33m.\u001b[0m\u001b[0mgfile\u001b[0m\u001b[1;33m.\u001b[0m\u001b[0mGFile\u001b[0m\u001b[1;33m(\u001b[0m\u001b[0mfilepath_str\u001b[0m\u001b[1;33m,\u001b[0m \u001b[0mmode\u001b[0m\u001b[1;33m=\u001b[0m\u001b[1;34m\"rb\"\u001b[0m\u001b[1;33m)\u001b[0m\u001b[1;33m,\u001b[0m\u001b[1;33m\n",
       "\u001b[0m                            \u001b[0mcustom_objects\u001b[0m\u001b[1;33m,\u001b[0m\u001b[1;33m\n",
       "\u001b[0m                            \u001b[0mcompile\u001b[0m\u001b[1;33m,\u001b[0m\u001b[1;33m\n",
       "\u001b[0m                        \u001b[1;33m)\u001b[0m\u001b[1;33m\n",
       "\u001b[0m                \u001b[1;32melif\u001b[0m \u001b[0mh5py\u001b[0m \u001b[1;32mis\u001b[0m \u001b[1;32mnot\u001b[0m \u001b[1;32mNone\u001b[0m \u001b[1;32mand\u001b[0m \u001b[0misinstance\u001b[0m\u001b[1;33m(\u001b[0m\u001b[0mfilepath\u001b[0m\u001b[1;33m,\u001b[0m \u001b[0mh5py\u001b[0m\u001b[1;33m.\u001b[0m\u001b[0mFile\u001b[0m\u001b[1;33m)\u001b[0m\u001b[1;33m:\u001b[0m\u001b[1;33m\n",
       "\u001b[0m                    \u001b[1;32mreturn\u001b[0m \u001b[0mhdf5_format\u001b[0m\u001b[1;33m.\u001b[0m\u001b[0mload_model_from_hdf5\u001b[0m\u001b[1;33m(\u001b[0m\u001b[1;33m\n",
       "\u001b[0m                        \u001b[0mfilepath\u001b[0m\u001b[1;33m,\u001b[0m \u001b[0mcustom_objects\u001b[0m\u001b[1;33m,\u001b[0m \u001b[0mcompile\u001b[0m\u001b[1;33m\n",
       "\u001b[0m                    \u001b[1;33m)\u001b[0m\u001b[1;33m\n",
       "\u001b[0m\u001b[1;33m\n",
       "\u001b[0m    \u001b[1;32mraise\u001b[0m \u001b[0mIOError\u001b[0m\u001b[1;33m(\u001b[0m\u001b[1;33m\n",
       "\u001b[0m        \u001b[1;34m\"Unable to load model. Filepath is not an hdf5 file (or h5py is not \"\u001b[0m\u001b[1;33m\n",
       "\u001b[0m        \u001b[1;34mf\"available) or SavedModel. Received: filepath={filepath}\"\u001b[0m\u001b[1;33m\n",
       "\u001b[0m    \u001b[1;33m)\u001b[0m\u001b[1;33m\u001b[0m\u001b[1;33m\u001b[0m\u001b[0m\n",
       "\u001b[1;31mFile:\u001b[0m      c:\\users\\dell\\anaconda3\\envs\\gputf\\lib\\site-packages\\keras\\saving\\save.py\n",
       "\u001b[1;31mType:\u001b[0m      function"
      ]
     },
     "metadata": {},
     "output_type": "display_data"
    }
   ],
   "source": []
  },
  {
   "cell_type": "code",
   "execution_count": null,
   "id": "b1427dd8-a0d9-4f53-91e1-da9bcac8da41",
   "metadata": {},
   "outputs": [],
   "source": []
  }
 ],
 "metadata": {
  "kernelspec": {
   "display_name": "Python 3 (ipykernel)",
   "language": "python",
   "name": "python3"
  },
  "language_info": {
   "codemirror_mode": {
    "name": "ipython",
    "version": 3
   },
   "file_extension": ".py",
   "mimetype": "text/x-python",
   "name": "python",
   "nbconvert_exporter": "python",
   "pygments_lexer": "ipython3",
   "version": "3.9.0"
  }
 },
 "nbformat": 4,
 "nbformat_minor": 5
}
